{
 "cells": [
  {
   "cell_type": "code",
   "execution_count": 7,
   "metadata": {},
   "outputs": [],
   "source": [
    "def knapsack_greedy(values, weights, capacity):\n",
    "    n = len(values)\n",
    "    # Calculate value-to-weight ratios\n",
    "    value_weight_ratios = [(values[i] / weights[i], weights[i], i) for i in range(n)]\n",
    "    # Sort items based on value-to-weight ratio in descending order\n",
    "    value_weight_ratios.sort(reverse=True)\n",
    "\n",
    "    total_value = 0\n",
    "    selected_items = [0] * n\n",
    "    total_weight = 0\n",
    "\n",
    "    for ratio, weight, i in value_weight_ratios:\n",
    "        if total_weight + weight <= capacity:\n",
    "            selected_items[i] = 1\n",
    "            total_value += values[i]\n",
    "            total_weight += weight\n",
    "\n",
    "    return selected_items, total_value, total_weight"
   ]
  },
  {
   "cell_type": "code",
   "execution_count": 21,
   "metadata": {},
   "outputs": [
    {
     "ename": "IndentationError",
     "evalue": "expected an indented block after 'else' statement on line 10 (208850821.py, line 11)",
     "output_type": "error",
     "traceback": [
      "\u001b[1;36m  Cell \u001b[1;32mIn[21], line 11\u001b[1;36m\u001b[0m\n\u001b[1;33m    continue\u001b[0m\n\u001b[1;37m    ^\u001b[0m\n\u001b[1;31mIndentationError\u001b[0m\u001b[1;31m:\u001b[0m expected an indented block after 'else' statement on line 10\n"
     ]
    }
   ],
   "source": [
    "# Function to display selected items\n",
    "def display_selected_items(selected_items):\n",
    "    if not selected_items:\n",
    "        print(\"No items selected\")\n",
    "    else:\n",
    "        print(\"Selected items:\")\n",
    "        for i in selected_items:\n",
    "            if i == 1:\n",
    "                print(\"Item\", item + 1)\n",
    "            else:\n",
    "            continue\n"
   ]
  },
  {
   "cell_type": "code",
   "execution_count": null,
   "metadata": {},
   "outputs": [],
   "source": []
  },
  {
   "cell_type": "code",
   "execution_count": null,
   "metadata": {},
   "outputs": [],
   "source": []
  },
  {
   "cell_type": "code",
   "execution_count": null,
   "metadata": {},
   "outputs": [],
   "source": []
  },
  {
   "cell_type": "code",
   "execution_count": 11,
   "metadata": {},
   "outputs": [
    {
     "name": "stdout",
     "output_type": "stream",
     "text": [
      "Selected items: [1, 1, 0, 0, 0, 1, 0]\n",
      "Total value: 22\n",
      "Total weight: 9\n"
     ]
    }
   ],
   "source": [
    "# Example usage:\n",
    "values = [12,8,17,11,6,2,2]\n",
    "weights = [4,3,7,5,3,2,3]\n",
    "capacity = 9\n",
    "\n",
    "selected_items, total_value, total_weight = knapsack_greedy(values, weights, capacity)\n",
    "\n",
    "print(\"Selected items:\", selected_items)\n",
    "print(\"Total value:\", total_value)\n",
    "print(\"Total weight:\", total_weight)"
   ]
  },
  {
   "cell_type": "code",
   "execution_count": 15,
   "metadata": {},
   "outputs": [
    {
     "name": "stdout",
     "output_type": "stream",
     "text": [
      "Selected items:\n"
     ]
    },
    {
     "ename": "TypeError",
     "evalue": "'bool' object is not iterable",
     "output_type": "error",
     "traceback": [
      "\u001b[1;31m---------------------------------------------------------------------------\u001b[0m",
      "\u001b[1;31mTypeError\u001b[0m                                 Traceback (most recent call last)",
      "Cell \u001b[1;32mIn[15], line 1\u001b[0m\n\u001b[1;32m----> 1\u001b[0m display_selected_items(selected_items)\n\u001b[0;32m      2\u001b[0m \u001b[38;5;28mprint\u001b[39m(\u001b[38;5;124m\"\u001b[39m\u001b[38;5;124mTotal value:\u001b[39m\u001b[38;5;124m\"\u001b[39m, total_value)\n",
      "Cell \u001b[1;32mIn[14], line 7\u001b[0m, in \u001b[0;36mdisplay_selected_items\u001b[1;34m(selected_items)\u001b[0m\n\u001b[0;32m      5\u001b[0m \u001b[38;5;28;01melse\u001b[39;00m:\n\u001b[0;32m      6\u001b[0m     \u001b[38;5;28mprint\u001b[39m(\u001b[38;5;124m\"\u001b[39m\u001b[38;5;124mSelected items:\u001b[39m\u001b[38;5;124m\"\u001b[39m)\n\u001b[1;32m----> 7\u001b[0m     \u001b[38;5;28;01mfor\u001b[39;00m item \u001b[38;5;129;01min\u001b[39;00m selected_items \u001b[38;5;241m==\u001b[39m \u001b[38;5;241m1\u001b[39m:\n\u001b[0;32m      8\u001b[0m         \u001b[38;5;28mprint\u001b[39m(\u001b[38;5;124m\"\u001b[39m\u001b[38;5;124mItem\u001b[39m\u001b[38;5;124m\"\u001b[39m, item \u001b[38;5;241m+\u001b[39m \u001b[38;5;241m1\u001b[39m)\n",
      "\u001b[1;31mTypeError\u001b[0m: 'bool' object is not iterable"
     ]
    }
   ],
   "source": [
    "display_selected_items(selected_items)\n",
    "print(\"Total value:\", total_value)"
   ]
  }
 ],
 "metadata": {
  "kernelspec": {
   "display_name": "base",
   "language": "python",
   "name": "python3"
  },
  "language_info": {
   "codemirror_mode": {
    "name": "ipython",
    "version": 3
   },
   "file_extension": ".py",
   "mimetype": "text/x-python",
   "name": "python",
   "nbconvert_exporter": "python",
   "pygments_lexer": "ipython3",
   "version": "3.11.5"
  }
 },
 "nbformat": 4,
 "nbformat_minor": 2
}
